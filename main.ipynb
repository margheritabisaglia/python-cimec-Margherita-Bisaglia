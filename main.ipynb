{
 "cells": [
  {
   "cell_type": "code",
   "execution_count": 1,
   "id": "6385c499",
   "metadata": {},
   "outputs": [],
   "source": [
    "#name of single cvs files for each participant \n",
    "name_cvs_mild = ['P1','P2','P3','P4','P5','P6','P7','P8','P9','P10','P11','P12','P13','P14','P15','P16','P17','P18','P19','P20','P21','P22','P23','P24','P25','P26']\n",
    "name_cvs_extreme = ['P2','P3', 'P5','P6','P7','P9','P10','P11','P12','P13','P14','P15','P16','P18','P19','P20','P21','P22','P23','P24','P25','P26','P27','P28','P29'] \n",
    "\n",
    "#folder which all the file are saved on my PC \n",
    "directory_mild = \"/Users/margheritabisaglia/Library/CloudStorage/OneDrive-ScientificNetworkSouthTyrol/UniTN/TESI tXc/EXP_thp/EXP_tirocinante_1/\"\n",
    "directory_extreme = \"/Users/margheritabisaglia/Library/CloudStorage/OneDrive-ScientificNetworkSouthTyrol/UniTN/TESI tXc/EXP_SPRING24/PARTECIPANTI/\""
   ]
  },
  {
   "cell_type": "code",
   "execution_count": 48,
   "id": "90db6771",
   "metadata": {},
   "outputs": [
    {
     "name": "stdout",
     "output_type": "stream",
     "text": [
      "         time    HR  block\n",
      "0    09:02:52  95.8      0\n",
      "1    09:02:57  61.8      0\n",
      "2    09:03:02  75.8      0\n",
      "3    09:03:07  89.4      0\n",
      "4    09:03:12  76.8      0\n"
     ]
    }
   ],
   "source": [
    "import pandas as pd\n",
    "HR_cool_dict = {}\n",
    "blocks_boundaries = { \"b1\": (2, 29), \"b2\": (31, 58),\"b3\": (60, 87),\"b4\": (89, 91),\"b5\": (118, 147)}\n",
    "\n",
    "for participant in name_cvs_mild:\n",
    "     file_path_cool = f\"{directory_mild}{participant}.xlsx\" \n",
    "     \n",
    "     file_cool_time_info=pd.read_excel(file_path_cool, sheet_name=\"Cold\") \n",
    "     file_cool_time_info = file_cool_time_info[\"Unnamed: 2\"]\n",
    "\n",
    "     block_dict = {}\n",
    "     for name, (start, end) in blocks_boundaries.items():\n",
    "         start_time = file_cool_time_info[start]    \n",
    "         end_time   = file_cool_time_info[end]      \n",
    "         block_dict[name] = [start_time, end_time]\n",
    "\n",
    "     file_cool_HR_info=pd.read_excel(file_path_cool,sheet_name=\"Eq_cold\")\n",
    "     HR_cool =pd.DataFrame({'time':file_cool_HR_info[\"Time (HH:mm:ss)\"],'HR':file_cool_HR_info['HR (bpm)']})\n",
    "     HR_cool[\"block\"] = 0\n",
    "     \n",
    "     for i, (name, (start, end)) in enumerate(block_dict.items(), start=1):\n",
    "         mask = (HR_cool[\"time\"] >= start) & (HR_cool[\"time\"] <= end)\n",
    "         HR_cool.loc[mask, \"block\"] = i\n",
    "         HR_cool_dict[participant] = HR_cool\n",
    "\n",
    "\n",
    "print(HR_cool_dict[\"P1\"].head()) \n",
    "     "
   ]
  },
  {
   "cell_type": "code",
   "execution_count": null,
   "id": "1d71aedf",
   "metadata": {},
   "outputs": [],
   "source": [
    "HR_cold_dict = {}\n",
    "blocks_boundaries = { \"b1\": (3, 31), \"b2\": (33, 61),\"b3\": (63, 91),\"b4\": (95, 123),\"b5\": (125, 152)}\n",
    "\n",
    "for participant in name_cvs_mild:\n",
    "     file_path_cold = f\"{directory_extreme}{participant}.xlsx\" \n",
    "     \n",
    "     file_cold_time_info=pd.read_excel(file_path_cold, sheet_name=\"Cold\") \n",
    "     file_cold_time_info = file_cold_time_info[\"Unnamed: 3\"]\n",
    "\n",
    "     block_dict = {}\n",
    "     for name, (start, end) in blocks_boundaries.items():\n",
    "         start_time = file_cool_time_info[start]    \n",
    "         end_time   = file_cool_time_info[end]      \n",
    "         block_dict[name] = [start_time, end_time]\n",
    "\n",
    "     file_cold_HR_info=pd.read_excel(file_path_cold,sheet_name=\"Eq_cold\")\n",
    "     HR_cold =pd.DataFrame({'time':file_cold_HR_info[\"Time (HH:mm:ss)\"],'HR':file_cold_HR_info['HR (bpm)']})\n",
    "     HR_cold[\"block\"] = 0\n",
    "     \n",
    "     for i, (name, (start, end)) in enumerate(block_dict.items(), start=1):\n",
    "         mask = (HR_cold[\"time\"] >= start) & (HR_cold[\"time\"] <= end)\n",
    "         HR_cold.loc[mask, \"block\"] = i\n",
    "         HR_cold_dict[participant] = HR_cold\n",
    "\n",
    "\n",
    "print(HR_cold_dict[\"P2\"].head())     "
   ]
  }
 ],
 "metadata": {
  "kernelspec": {
   "display_name": "Python (course-env)",
   "language": "python",
   "name": "course-env"
  },
  "language_info": {
   "codemirror_mode": {
    "name": "ipython",
    "version": 3
   },
   "file_extension": ".py",
   "mimetype": "text/x-python",
   "name": "python",
   "nbconvert_exporter": "python",
   "pygments_lexer": "ipython3",
   "version": "3.11.11"
  }
 },
 "nbformat": 4,
 "nbformat_minor": 5
}
